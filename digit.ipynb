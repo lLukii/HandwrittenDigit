{
 "cells": [
  {
   "cell_type": "code",
   "execution_count": 1,
   "metadata": {},
   "outputs": [],
   "source": [
    "import torch\n",
    "import torch.nn as nn\n",
    "from torch import optim\n",
    "from torchvision import datasets, transforms\n",
    "from torch.utils.data import DataLoader\n",
    "import numpy as np\n",
    "import matplotlib.pyplot as plt\n",
    "from random import randint"
   ]
  },
  {
   "cell_type": "code",
   "execution_count": 2,
   "metadata": {},
   "outputs": [],
   "source": [
    "transform = transforms.Compose([\n",
    "    transforms.ToTensor(),\n",
    "    transforms.Normalize((0,),(1,))\n",
    "])\n",
    "train_dataset = datasets.MNIST(\n",
    "    root='./data', \n",
    "    train=True, \n",
    "    download=True, \n",
    "    transform=transform\n",
    ")\n",
    "test_dataset = datasets.MNIST(\n",
    "    root='./data', \n",
    "    train=True, \n",
    "    download=True, \n",
    "    transform=transform\n",
    ")\n",
    "\n",
    "train_loader = DataLoader(dataset=train_dataset, batch_size=64, shuffle=True)\n",
    "test_loader = DataLoader(dataset=test_dataset, batch_size=64, shuffle=False)"
   ]
  },
  {
   "cell_type": "code",
   "execution_count": 3,
   "metadata": {},
   "outputs": [],
   "source": [
    "input_size = 784\n",
    "hidden_size = 512\n",
    "output_size = 10\n",
    "\n",
    "# neural network structure\n",
    "class NeuralNetwork(nn.Module):\n",
    "    def __init__(self):\n",
    "        super().__init__()\n",
    "        self.flatten = nn.Flatten()\n",
    "        self.linear_relu_forward = nn.Sequential(\n",
    "            nn.Linear(input_size, hidden_size),\n",
    "            nn.ReLU(),\n",
    "            nn.Linear(hidden_size, hidden_size),\n",
    "            nn.ReLU(),\n",
    "            nn.Linear(hidden_size, output_size)\n",
    "        )\n",
    "    \n",
    "    def forward(self, x):\n",
    "        x = self.flatten(x)\n",
    "        output = self.linear_relu_forward(x)\n",
    "        return output\n",
    "\n",
    "model = NeuralNetwork()\n",
    "loss_func = nn.CrossEntropyLoss()\n",
    "optimizer = optim.Adam(model.parameters(), lr=0.001)\n",
    "epochs = 10\n"
   ]
  },
  {
   "cell_type": "code",
   "execution_count": 4,
   "metadata": {},
   "outputs": [
    {
     "name": "stdout",
     "output_type": "stream",
     "text": [
      "60000\n",
      "Epoch #1\n",
      "Current loss: 2.308678150177002\n",
      "Accuracy: 97.11666666666666%\n",
      "Epoch #2\n",
      "Current loss: 0.13061809539794922\n",
      "Accuracy: 97.79833333333333%\n",
      "Epoch #3\n",
      "Current loss: 0.11914654821157455\n",
      "Accuracy: 98.78%\n",
      "Epoch #4\n",
      "Current loss: 0.06878773868083954\n",
      "Accuracy: 98.86666666666667%\n",
      "Epoch #5\n",
      "Current loss: 0.025443920865654945\n",
      "Accuracy: 98.575%\n",
      "Epoch #6\n",
      "Current loss: 0.005628862883895636\n",
      "Accuracy: 99.165%\n",
      "Epoch #7\n",
      "Current loss: 0.004139658063650131\n",
      "Accuracy: 99.50666666666666%\n",
      "Epoch #8\n",
      "Current loss: 0.00272661866620183\n",
      "Accuracy: 99.60166666666666%\n",
      "Epoch #9\n",
      "Current loss: 0.003435878548771143\n",
      "Accuracy: 99.43833333333333%\n",
      "Epoch #10\n",
      "Current loss: 0.013074211776256561\n",
      "Accuracy: 99.38666666666667%\n"
     ]
    }
   ],
   "source": [
    "loss_cache = []\n",
    "def train_loop(dataloader):\n",
    "    model.train()\n",
    "    for batch, (X, Y) in enumerate(dataloader):\n",
    "        # forward prop\n",
    "        pred = model(X)\n",
    "        loss = loss_func(pred, Y)\n",
    "        # backpropagation\n",
    "        loss.backward()\n",
    "        optimizer.step()\n",
    "        optimizer.zero_grad()\n",
    "\n",
    "        loss_cache.append(loss.item())\n",
    "        if batch % 1000 == 0:  \n",
    "            print(f\"Current loss: {loss.item()}\")\n",
    "\n",
    "def test_loop(dataloader):\n",
    "    model.eval() # sets to evaluation mode\n",
    "    size = len(dataloader.dataset)\n",
    "    correct = 0\n",
    "    with torch.no_grad():\n",
    "        for X, Y in dataloader: \n",
    "            pred = model(X)\n",
    "            correct += (pred.argmax(1) == Y).sum().item()\n",
    "\n",
    "    print(f\"Accuracy: {correct / size * 100}%\")\n",
    "\n",
    "print(len(train_loader.dataset))\n",
    "for t in range(epochs):\n",
    "    print(f\"Epoch #{t+1}\")\n",
    "    train_loop(train_loader)\n",
    "    test_loop(test_loader)"
   ]
  },
  {
   "cell_type": "code",
   "execution_count": 5,
   "metadata": {},
   "outputs": [
    {
     "data": {
      "image/png": "[encoded data removed]",
      "text/plain": [
       "<Figure size 600x600 with 1 Axes>"
      ]
     },
     "metadata": {},
     "output_type": "display_data"
    },
    {
     "name": "stdout",
     "output_type": "stream",
     "text": [
      "Model Prediction: 3\n",
      "Correct Answer: 3\n"
     ]
    },
    {
     "data": {
      "image/png": "[encoded data removed]",
      "text/plain": [
       "<Figure size 640x480 with 1 Axes>"
      ]
     },
     "metadata": {},
     "output_type": "display_data"
    },
    {
     "name": "stdout",
     "output_type": "stream",
     "text": [
      "Model Prediction: 1\n",
      "Correct Answer: 1\n"
     ]
    },
    {
     "data": {
      "image/png": "[encoded data removed]",
      "text/plain": [
       "<Figure size 640x480 with 1 Axes>"
      ]
     },
     "metadata": {},
     "output_type": "display_data"
    },
    {
     "name": "stdout",
     "output_type": "stream",
     "text": [
      "Model Prediction: 9\n",
      "Correct Answer: 9\n"
     ]
    },
    {
     "data": {
      "image/png": "[encoded data removed]",
      "text/plain": [
       "<Figure size 640x480 with 1 Axes>"
      ]
     },
     "metadata": {},
     "output_type": "display_data"
    },
    {
     "name": "stdout",
     "output_type": "stream",
     "text": [
      "Model Prediction: 1\n",
      "Correct Answer: 1\n"
     ]
    },
    {
     "data": {
      "image/png": "[encoded data removed]",
      "text/plain": [
       "<Figure size 640x480 with 1 Axes>"
      ]
     },
     "metadata": {},
     "output_type": "display_data"
    },
    {
     "name": "stdout",
     "output_type": "stream",
     "text": [
      "Model Prediction: 1\n",
      "Correct Answer: 1\n"
     ]
    },
    {
     "data": {
      "image/png": "[encoded data removed]",
      "text/plain": [
       "<Figure size 640x480 with 1 Axes>"
      ]
     },
     "metadata": {},
     "output_type": "display_data"
    },
    {
     "name": "stdout",
     "output_type": "stream",
     "text": [
      "Model Prediction: 3\n",
      "Correct Answer: 3\n"
     ]
    },
    {
     "data": {
      "image/png": "[encoded data removed]",
      "text/plain": [
       "<Figure size 640x480 with 1 Axes>"
      ]
     },
     "metadata": {},
     "output_type": "display_data"
    },
    {
     "name": "stdout",
     "output_type": "stream",
     "text": [
      "Model Prediction: 4\n",
      "Correct Answer: 4\n"
     ]
    },
    {
     "data": {
      "image/png": "[encoded data removed]",
      "text/plain": [
       "<Figure size 640x480 with 1 Axes>"
      ]
     },
     "metadata": {},
     "output_type": "display_data"
    },
    {
     "name": "stdout",
     "output_type": "stream",
     "text": [
      "Model Prediction: 6\n",
      "Correct Answer: 6\n"
     ]
    },
    {
     "data": {
      "image/png": "[encoded data removed]",
      "text/plain": [
       "<Figure size 640x480 with 1 Axes>"
      ]
     },
     "metadata": {},
     "output_type": "display_data"
    },
    {
     "name": "stdout",
     "output_type": "stream",
     "text": [
      "Model Prediction: 2\n",
      "Correct Answer: 2\n"
     ]
    }
   ],
   "source": [
    "plt.figure(figsize=(6,6))\n",
    "images, labels = next(iter(train_loader))\n",
    "for i in range(9):    \n",
    "    plt.subplot(3, 3, i+1)\n",
    "    idx = randint(0, 63)\n",
    "    image = images[idx]\n",
    "    plt.imshow(image.squeeze(), cmap=\"gray\")\n",
    "    plt.show()\n",
    "\n",
    "    pred = model(image)\n",
    "    print(f\"Model Prediction: {int(pred.argmax(1))}\")\n",
    "    print(f\"Correct Answer: {labels[idx]}\")"
   ]
  },
  {
   "cell_type": "code",
   "execution_count": 6,
   "metadata": {},
   "outputs": [
    {
     "data": {
      "image/png": "[encoded data removed]",
      "text/plain": [
       "<Figure size 640x480 with 1 Axes>"
      ]
     },
     "metadata": {},
     "output_type": "display_data"
    }
   ],
   "source": [
    "plt.plot(loss_cache)\n",
    "plt.show()"
   ]
  },
  {
   "cell_type": "code",
   "execution_count": null,
   "metadata": {},
   "outputs": [],
   "source": []
  },
  {
   "cell_type": "code",
   "execution_count": null,
   "metadata": {},
   "outputs": [],
   "source": []
  }
 ],
 "metadata": {
  "kernelspec": {
   "display_name": "Python 3",
   "language": "python",
   "name": "python3"
  },
  "language_info": {
   "codemirror_mode": {
    "name": "ipython",
    "version": 3
   },
   "file_extension": ".py",
   "mimetype": "text/x-python",
   "name": "python",
   "nbconvert_exporter": "python",
   "pygments_lexer": "ipython3",
   "version": "3.13.0"
  }
 },
 "nbformat": 4,
 "nbformat_minor": 2
}
